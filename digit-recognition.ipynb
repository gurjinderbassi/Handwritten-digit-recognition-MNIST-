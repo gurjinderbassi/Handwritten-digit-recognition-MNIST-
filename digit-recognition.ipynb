{
  "nbformat": 4,
  "nbformat_minor": 0,
  "metadata": {
    "colab": {
      "name": "Untitled0.ipynb",
      "provenance": [],
      "collapsed_sections": [],
      "authorship_tag": "ABX9TyMbEbFZygvoqYOuwRRes6P5"
    },
    "kernelspec": {
      "name": "python3",
      "display_name": "Python 3"
    }
  },
  "cells": [
    {
      "cell_type": "markdown",
      "metadata": {
        "id": "KK1ztpHnOVYu",
        "colab_type": "text"
      },
      "source": [
        "Import the standard libraries"
      ]
    },
    {
      "cell_type": "code",
      "metadata": {
        "id": "YnHjcIdWlInL",
        "colab_type": "code",
        "colab": {
          "base_uri": "https://localhost:8080/",
          "height": 72
        },
        "outputId": "d0d81982-2b61-47c4-c926-2dceeee885e2"
      },
      "source": [
        "import numpy as np\n",
        "import pandas as pd\n",
        "import seaborn as sns\n",
        "import matplotlib.pyplot as plt\n",
        "%matplotlib inline"
      ],
      "execution_count": 8,
      "outputs": [
        {
          "output_type": "stream",
          "text": [
            "/usr/local/lib/python3.6/dist-packages/statsmodels/tools/_testing.py:19: FutureWarning: pandas.util.testing is deprecated. Use the functions in the public API at pandas.testing instead.\n",
            "  import pandas.util.testing as tm\n"
          ],
          "name": "stderr"
        }
      ]
    },
    {
      "cell_type": "markdown",
      "metadata": {
        "id": "O0W6rbjUOgGm",
        "colab_type": "text"
      },
      "source": [
        "Import the MNIST data from Keras"
      ]
    },
    {
      "cell_type": "code",
      "metadata": {
        "id": "Dgz0erGIlN96",
        "colab_type": "code",
        "colab": {}
      },
      "source": [
        "from tensorflow.keras.datasets import mnist"
      ],
      "execution_count": 0,
      "outputs": []
    },
    {
      "cell_type": "code",
      "metadata": {
        "id": "9Gd7TD6-lY9L",
        "colab_type": "code",
        "colab": {
          "base_uri": "https://localhost:8080/",
          "height": 52
        },
        "outputId": "a6108a29-2f3f-4fa8-8662-02d84876b2b1"
      },
      "source": [
        "#The MNIST dataset consists of 60000 training images and 10000 test images. Size of an image is 28X28 and the dataset is loaded as follows\n",
        "(x_train,y_train),(x_test,y_test) = mnist.load_data()"
      ],
      "execution_count": 3,
      "outputs": [
        {
          "output_type": "stream",
          "text": [
            "Downloading data from https://storage.googleapis.com/tensorflow/tf-keras-datasets/mnist.npz\n",
            "11493376/11490434 [==============================] - 0s 0us/step\n"
          ],
          "name": "stdout"
        }
      ]
    },
    {
      "cell_type": "code",
      "metadata": {
        "id": "wGmiwWPUlhSC",
        "colab_type": "code",
        "colab": {
          "base_uri": "https://localhost:8080/",
          "height": 35
        },
        "outputId": "85a9af9d-2376-41a6-92e4-7c04f541cd26"
      },
      "source": [
        "#Dimensions of training data\n",
        "x_train.shape"
      ],
      "execution_count": 4,
      "outputs": [
        {
          "output_type": "execute_result",
          "data": {
            "text/plain": [
              "(60000, 28, 28)"
            ]
          },
          "metadata": {
            "tags": []
          },
          "execution_count": 4
        }
      ]
    },
    {
      "cell_type": "code",
      "metadata": {
        "id": "60RWlgevlmgs",
        "colab_type": "code",
        "colab": {
          "base_uri": "https://localhost:8080/",
          "height": 283
        },
        "outputId": "5f5f437b-a8c2-4bd1-f4ac-1fe99dfb5c9f"
      },
      "source": [
        "#To show an example image from the dataset\n",
        "single_image = x_train[0]\n",
        "plt.imshow(single_image,cmap='Greys')"
      ],
      "execution_count": 5,
      "outputs": [
        {
          "output_type": "execute_result",
          "data": {
            "text/plain": [
              "<matplotlib.image.AxesImage at 0x7f3ab1deaf60>"
            ]
          },
          "metadata": {
            "tags": []
          },
          "execution_count": 5
        },
        {
          "output_type": "display_data",
          "data": {
            "image/png": "[encoded data removed]",
            "text/plain": [
              "<Figure size 432x288 with 1 Axes>"
            ]
          },
          "metadata": {
            "tags": []
          }
        }
      ]
    },
    {
      "cell_type": "code",
      "metadata": {
        "id": "FHYNYXrVlrf7",
        "colab_type": "code",
        "colab": {
          "base_uri": "https://localhost:8080/",
          "height": 35
        },
        "outputId": "77a032da-ee56-492a-874b-1294a96ae91f"
      },
      "source": [
        "\"\"\"Check the output labels of training data. These are numerical outputs for each image, so the model may end up assuming\n",
        "that it is a numerical training problem e.g. regression problem and it would start predicting values like 5.5, 0.1 etc.\n",
        "To overcome this and to let the model behave to predict categorical outputs, one hot encoding is needed.\"\"\"\n",
        "y_train"
      ],
      "execution_count": 6,
      "outputs": [
        {
          "output_type": "execute_result",
          "data": {
            "text/plain": [
              "array([5, 0, 4, ..., 5, 6, 8], dtype=uint8)"
            ]
          },
          "metadata": {
            "tags": []
          },
          "execution_count": 6
        }
      ]
    },
    {
      "cell_type": "markdown",
      "metadata": {
        "id": "T79C9T06QEue",
        "colab_type": "text"
      },
      "source": [
        "One hot encoding for output"
      ]
    },
    {
      "cell_type": "code",
      "metadata": {
        "id": "Wcme0VAumVyl",
        "colab_type": "code",
        "colab": {}
      },
      "source": [
        "from tensorflow.keras.utils import to_categorical"
      ],
      "execution_count": 0,
      "outputs": []
    },
    {
      "cell_type": "code",
      "metadata": {
        "id": "Q1MwX2JlmaeY",
        "colab_type": "code",
        "colab": {
          "base_uri": "https://localhost:8080/",
          "height": 35
        },
        "outputId": "f68e4d95-4ae0-4d8b-ea40-405cf40be80f"
      },
      "source": [
        "#Original dimensions of y_train\n",
        "y_train.shape"
      ],
      "execution_count": 9,
      "outputs": [
        {
          "output_type": "execute_result",
          "data": {
            "text/plain": [
              "(60000,)"
            ]
          },
          "metadata": {
            "tags": []
          },
          "execution_count": 9
        }
      ]
    },
    {
      "cell_type": "code",
      "metadata": {
        "id": "OY-rDmwtmcW-",
        "colab_type": "code",
        "colab": {
          "base_uri": "https://localhost:8080/",
          "height": 35
        },
        "outputId": "1494379e-b89f-491a-8c4e-ea1a393288fd"
      },
      "source": [
        "#Convert one-hot encoding using 'to_categorical' and check its dimensions\n",
        "y_example = to_categorical(y_train)\n",
        "y_example.shape"
      ],
      "execution_count": 10,
      "outputs": [
        {
          "output_type": "execute_result",
          "data": {
            "text/plain": [
              "(60000, 10)"
            ]
          },
          "metadata": {
            "tags": []
          },
          "execution_count": 10
        }
      ]
    },
    {
      "cell_type": "code",
      "metadata": {
        "id": "6wE0s1sumgt1",
        "colab_type": "code",
        "colab": {
          "base_uri": "https://localhost:8080/",
          "height": 139
        },
        "outputId": "253a91d9-a468-46fe-e7ef-23bb0f77cd58"
      },
      "source": [
        "y_example"
      ],
      "execution_count": 11,
      "outputs": [
        {
          "output_type": "execute_result",
          "data": {
            "text/plain": [
              "array([[0., 0., 0., ..., 0., 0., 0.],\n",
              "       [1., 0., 0., ..., 0., 0., 0.],\n",
              "       [0., 0., 0., ..., 0., 0., 0.],\n",
              "       ...,\n",
              "       [0., 0., 0., ..., 0., 0., 0.],\n",
              "       [0., 0., 0., ..., 0., 0., 0.],\n",
              "       [0., 0., 0., ..., 0., 1., 0.]], dtype=float32)"
            ]
          },
          "metadata": {
            "tags": []
          },
          "execution_count": 11
        }
      ]
    },
    {
      "cell_type": "code",
      "metadata": {
        "id": "SeZAmayrmkvV",
        "colab_type": "code",
        "colab": {
          "base_uri": "https://localhost:8080/",
          "height": 35
        },
        "outputId": "10d0df65-56fe-4d09-826d-489b65a15aba"
      },
      "source": [
        "#Checking the output for first image, there is a '1' at index 5 of the output, suggesting the digit to be '5'\n",
        "y_example[0]"
      ],
      "execution_count": 12,
      "outputs": [
        {
          "output_type": "execute_result",
          "data": {
            "text/plain": [
              "array([0., 0., 0., 0., 0., 1., 0., 0., 0., 0.], dtype=float32)"
            ]
          },
          "metadata": {
            "tags": []
          },
          "execution_count": 12
        }
      ]
    },
    {
      "cell_type": "code",
      "metadata": {
        "id": "lBUc-n9gmmsE",
        "colab_type": "code",
        "colab": {}
      },
      "source": [
        "#Now one hot encoding is done both for training and testing data. The num_classes can also be explicitly mentioned.\n",
        "y_cat_train = to_categorical(y_train,num_classes=10)\n",
        "y_cat_test = to_categorical(y_test,num_classes=10)"
      ],
      "execution_count": 0,
      "outputs": []
    },
    {
      "cell_type": "markdown",
      "metadata": {
        "id": "e7b88HmXRD3j",
        "colab_type": "text"
      },
      "source": [
        "Scale the data"
      ]
    },
    {
      "cell_type": "code",
      "metadata": {
        "id": "myD4V8-YnImV",
        "colab_type": "code",
        "colab": {}
      },
      "source": [
        "#The values of training and testing images are fixed i.e. ranging from 0 to 255. So, instead of using pre-defined scalers such as MinMaxScaler, \n",
        "#the pixel values can be simply scaled between range 0 to 1 as follows:\n",
        "x_train = x_train/255\n",
        "x_test = x_test/255"
      ],
      "execution_count": 0,
      "outputs": []
    },
    {
      "cell_type": "markdown",
      "metadata": {
        "id": "gjeyIHinRknG",
        "colab_type": "text"
      },
      "source": [
        "Reshaping the data to add 'color component' dimension"
      ]
    },
    {
      "cell_type": "code",
      "metadata": {
        "id": "WYWmZZlRnv02",
        "colab_type": "code",
        "colab": {}
      },
      "source": [
        "#(num_images, width, height, no. of color components)\n",
        "x_train = x_train.reshape(60000,28,28,1) \n",
        "x_test = x_test.reshape(10000,28,28,1)"
      ],
      "execution_count": 0,
      "outputs": []
    },
    {
      "cell_type": "markdown",
      "metadata": {
        "id": "Oyg3p6MQR7BJ",
        "colab_type": "text"
      },
      "source": [
        "Create the model"
      ]
    },
    {
      "cell_type": "code",
      "metadata": {
        "id": "blz_b4VKoF-v",
        "colab_type": "code",
        "colab": {}
      },
      "source": [
        "from tensorflow.keras.models import Sequential"
      ],
      "execution_count": 0,
      "outputs": []
    },
    {
      "cell_type": "code",
      "metadata": {
        "id": "wCIr42YXoa-5",
        "colab_type": "code",
        "colab": {}
      },
      "source": [
        "from tensorflow.keras.layers import Dense, Conv2D, MaxPool2D, Flatten"
      ],
      "execution_count": 0,
      "outputs": []
    },
    {
      "cell_type": "code",
      "metadata": {
        "id": "3H80jU18oiQl",
        "colab_type": "code",
        "colab": {}
      },
      "source": [
        "model = Sequential()"
      ],
      "execution_count": 0,
      "outputs": []
    },
    {
      "cell_type": "markdown",
      "metadata": {
        "id": "lEySncdunsff",
        "colab_type": "text"
      },
      "source": [
        "Add layers to the model"
      ]
    },
    {
      "cell_type": "code",
      "metadata": {
        "id": "TmQhLc2noklq",
        "colab_type": "code",
        "colab": {}
      },
      "source": [
        "#The first layer of a CNN is a convolution layer. 'input_shape' parameter is fixed, while others can be changed.\n",
        "model.add(Conv2D(filters=32,kernel_size=(4,4),input_shape=(28,28,1),activation='relu'))\n",
        "\n",
        "#convolution layer is followed by pooling layer\n",
        "model.add(MaxPool2D(pool_size=(2,2)))\n",
        "\n",
        "#flatten the 2D output to 1D\n",
        "model.add(Flatten())\n",
        "\n",
        "#fully connected layer at the end\n",
        "model.add(Dense(128,activation='relu'))\n",
        "\n",
        "#output layer - number of neurons is fixed i.e. 10 for multi-class classification as there are 10 classes (0-9). \n",
        "#Use activation function = softmax\n",
        "model.add(Dense(10,activation='softmax'))"
      ],
      "execution_count": 0,
      "outputs": []
    },
    {
      "cell_type": "markdown",
      "metadata": {
        "id": "_Ef3NzMYTFGP",
        "colab_type": "text"
      },
      "source": [
        "Compile the model"
      ]
    },
    {
      "cell_type": "code",
      "metadata": {
        "id": "wNUVdralq13v",
        "colab_type": "code",
        "colab": {
          "base_uri": "https://localhost:8080/",
          "height": 329
        },
        "outputId": "d351838e-6983-4cae-8cee-4e486719cacb"
      },
      "source": [
        "model.compile(loss='categorical_crossentropy',optimizer='adam',metrics=['accuracy'])\n",
        "\n",
        "model.summary()"
      ],
      "execution_count": 20,
      "outputs": [
        {
          "output_type": "stream",
          "text": [
            "Model: \"sequential\"\n",
            "_________________________________________________________________\n",
            "Layer (type)                 Output Shape              Param #   \n",
            "=================================================================\n",
            "conv2d (Conv2D)              (None, 25, 25, 32)        544       \n",
            "_________________________________________________________________\n",
            "max_pooling2d (MaxPooling2D) (None, 12, 12, 32)        0         \n",
            "_________________________________________________________________\n",
            "flatten (Flatten)            (None, 4608)              0         \n",
            "_________________________________________________________________\n",
            "dense (Dense)                (None, 128)               589952    \n",
            "_________________________________________________________________\n",
            "dense_1 (Dense)              (None, 10)                1290      \n",
            "=================================================================\n",
            "Total params: 591,786\n",
            "Trainable params: 591,786\n",
            "Non-trainable params: 0\n",
            "_________________________________________________________________\n"
          ],
          "name": "stdout"
        }
      ]
    },
    {
      "cell_type": "markdown",
      "metadata": {
        "id": "6BW_bmDvTPhH",
        "colab_type": "text"
      },
      "source": [
        "Prevent overfitting using EarlyStopping"
      ]
    },
    {
      "cell_type": "code",
      "metadata": {
        "id": "tNQ-YKuorKrC",
        "colab_type": "code",
        "colab": {}
      },
      "source": [
        "from tensorflow.keras.callbacks import EarlyStopping"
      ],
      "execution_count": 0,
      "outputs": []
    },
    {
      "cell_type": "code",
      "metadata": {
        "id": "8lsFqPE5rvNN",
        "colab_type": "code",
        "colab": {}
      },
      "source": [
        "#the val_loss is monitored and if starts to increase then training is stopped. Patience is the no. of epochs to execute before actually stopping\n",
        "early_stop = EarlyStopping(monitor='val_loss',patience=2,mode='min')"
      ],
      "execution_count": 0,
      "outputs": []
    },
    {
      "cell_type": "markdown",
      "metadata": {
        "id": "0rEjsLRTTqgq",
        "colab_type": "text"
      },
      "source": [
        "Training"
      ]
    },
    {
      "cell_type": "code",
      "metadata": {
        "id": "7pLAmMKYr8IK",
        "colab_type": "code",
        "colab": {
          "base_uri": "https://localhost:8080/",
          "height": 277
        },
        "outputId": "5c2f49a6-87f9-49e9-fb58-f74787b9906c"
      },
      "source": [
        "model.fit(x_train,y_cat_train,epochs=10,validation_data=(x_test,y_cat_test), callbacks=[early_stop])"
      ],
      "execution_count": 23,
      "outputs": [
        {
          "output_type": "stream",
          "text": [
            "Epoch 1/10\n",
            "1875/1875 [==============================] - 35s 18ms/step - loss: 0.1410 - accuracy: 0.9578 - val_loss: 0.0534 - val_accuracy: 0.9831\n",
            "Epoch 2/10\n",
            "1875/1875 [==============================] - 35s 19ms/step - loss: 0.0461 - accuracy: 0.9858 - val_loss: 0.0427 - val_accuracy: 0.9857\n",
            "Epoch 3/10\n",
            "1875/1875 [==============================] - 35s 19ms/step - loss: 0.0297 - accuracy: 0.9904 - val_loss: 0.0397 - val_accuracy: 0.9858\n",
            "Epoch 4/10\n",
            "1875/1875 [==============================] - 34s 18ms/step - loss: 0.0194 - accuracy: 0.9942 - val_loss: 0.0437 - val_accuracy: 0.9866\n",
            "Epoch 5/10\n",
            "1875/1875 [==============================] - 34s 18ms/step - loss: 0.0135 - accuracy: 0.9953 - val_loss: 0.0366 - val_accuracy: 0.9879\n",
            "Epoch 6/10\n",
            "1875/1875 [==============================] - 35s 18ms/step - loss: 0.0106 - accuracy: 0.9966 - val_loss: 0.0383 - val_accuracy: 0.9888\n",
            "Epoch 7/10\n",
            "1875/1875 [==============================] - 35s 19ms/step - loss: 0.0082 - accuracy: 0.9971 - val_loss: 0.0548 - val_accuracy: 0.9852\n"
          ],
          "name": "stdout"
        },
        {
          "output_type": "execute_result",
          "data": {
            "text/plain": [
              "<tensorflow.python.keras.callbacks.History at 0x7f3aaa2c4208>"
            ]
          },
          "metadata": {
            "tags": []
          },
          "execution_count": 23
        }
      ]
    },
    {
      "cell_type": "markdown",
      "metadata": {
        "id": "K4OcYSRMUv5V",
        "colab_type": "text"
      },
      "source": [
        "Model Evaluation"
      ]
    },
    {
      "cell_type": "code",
      "metadata": {
        "id": "cOmIc0_asXz0",
        "colab_type": "code",
        "colab": {
          "base_uri": "https://localhost:8080/",
          "height": 263
        },
        "outputId": "76a39b2a-18ab-47ab-c636-0aa8bcda401f"
      },
      "source": [
        "metrics = pd.DataFrame(model.history.history)\n",
        "metrics"
      ],
      "execution_count": 24,
      "outputs": [
        {
          "output_type": "execute_result",
          "data": {
            "text/html": [
              "<div>\n",
              "<style scoped>\n",
              "    .dataframe tbody tr th:only-of-type {\n",
              "        vertical-align: middle;\n",
              "    }\n",
              "\n",
              "    .dataframe tbody tr th {\n",
              "        vertical-align: top;\n",
              "    }\n",
              "\n",
              "    .dataframe thead th {\n",
              "        text-align: right;\n",
              "    }\n",
              "</style>\n",
              "<table border=\"1\" class=\"dataframe\">\n",
              "  <thead>\n",
              "    <tr style=\"text-align: right;\">\n",
              "      <th></th>\n",
              "      <th>loss</th>\n",
              "      <th>accuracy</th>\n",
              "      <th>val_loss</th>\n",
              "      <th>val_accuracy</th>\n",
              "    </tr>\n",
              "  </thead>\n",
              "  <tbody>\n",
              "    <tr>\n",
              "      <th>0</th>\n",
              "      <td>0.140983</td>\n",
              "      <td>0.957850</td>\n",
              "      <td>0.053434</td>\n",
              "      <td>0.9831</td>\n",
              "    </tr>\n",
              "    <tr>\n",
              "      <th>1</th>\n",
              "      <td>0.046150</td>\n",
              "      <td>0.985800</td>\n",
              "      <td>0.042721</td>\n",
              "      <td>0.9857</td>\n",
              "    </tr>\n",
              "    <tr>\n",
              "      <th>2</th>\n",
              "      <td>0.029741</td>\n",
              "      <td>0.990417</td>\n",
              "      <td>0.039718</td>\n",
              "      <td>0.9858</td>\n",
              "    </tr>\n",
              "    <tr>\n",
              "      <th>3</th>\n",
              "      <td>0.019385</td>\n",
              "      <td>0.994183</td>\n",
              "      <td>0.043712</td>\n",
              "      <td>0.9866</td>\n",
              "    </tr>\n",
              "    <tr>\n",
              "      <th>4</th>\n",
              "      <td>0.013535</td>\n",
              "      <td>0.995317</td>\n",
              "      <td>0.036573</td>\n",
              "      <td>0.9879</td>\n",
              "    </tr>\n",
              "    <tr>\n",
              "      <th>5</th>\n",
              "      <td>0.010640</td>\n",
              "      <td>0.996633</td>\n",
              "      <td>0.038323</td>\n",
              "      <td>0.9888</td>\n",
              "    </tr>\n",
              "    <tr>\n",
              "      <th>6</th>\n",
              "      <td>0.008213</td>\n",
              "      <td>0.997133</td>\n",
              "      <td>0.054777</td>\n",
              "      <td>0.9852</td>\n",
              "    </tr>\n",
              "  </tbody>\n",
              "</table>\n",
              "</div>"
            ],
            "text/plain": [
              "       loss  accuracy  val_loss  val_accuracy\n",
              "0  0.140983  0.957850  0.053434        0.9831\n",
              "1  0.046150  0.985800  0.042721        0.9857\n",
              "2  0.029741  0.990417  0.039718        0.9858\n",
              "3  0.019385  0.994183  0.043712        0.9866\n",
              "4  0.013535  0.995317  0.036573        0.9879\n",
              "5  0.010640  0.996633  0.038323        0.9888\n",
              "6  0.008213  0.997133  0.054777        0.9852"
            ]
          },
          "metadata": {
            "tags": []
          },
          "execution_count": 24
        }
      ]
    },
    {
      "cell_type": "code",
      "metadata": {
        "id": "Uf7owQpju9zs",
        "colab_type": "code",
        "colab": {
          "base_uri": "https://localhost:8080/",
          "height": 283
        },
        "outputId": "25643bbb-7c9b-4176-bc05-ed1d0d17b455"
      },
      "source": [
        "metrics[['loss','val_loss']].plot()"
      ],
      "execution_count": 25,
      "outputs": [
        {
          "output_type": "execute_result",
          "data": {
            "text/plain": [
              "<matplotlib.axes._subplots.AxesSubplot at 0x7f3aa7394208>"
            ]
          },
          "metadata": {
            "tags": []
          },
          "execution_count": 25
        },
        {
          "output_type": "display_data",
          "data": {
            "image/png": "[encoded data removed]",
            "text/plain": [
              "<Figure size 432x288 with 1 Axes>"
            ]
          },
          "metadata": {
            "tags": []
          }
        }
      ]
    },
    {
      "cell_type": "code",
      "metadata": {
        "id": "dtljZhReyKti",
        "colab_type": "code",
        "colab": {
          "base_uri": "https://localhost:8080/",
          "height": 283
        },
        "outputId": "c2a7835e-ee70-4511-eb58-93159853570c"
      },
      "source": [
        "metrics[['accuracy','val_accuracy']].plot()"
      ],
      "execution_count": 27,
      "outputs": [
        {
          "output_type": "execute_result",
          "data": {
            "text/plain": [
              "<matplotlib.axes._subplots.AxesSubplot at 0x7f3aa70aec50>"
            ]
          },
          "metadata": {
            "tags": []
          },
          "execution_count": 27
        },
        {
          "output_type": "display_data",
          "data": {
            "image/png": "[encoded data removed]",
            "text/plain": [
              "<Figure size 432x288 with 1 Axes>"
            ]
          },
          "metadata": {
            "tags": []
          }
        }
      ]
    },
    {
      "cell_type": "code",
      "metadata": {
        "id": "SccwEwUlyWTS",
        "colab_type": "code",
        "colab": {
          "base_uri": "https://localhost:8080/",
          "height": 52
        },
        "outputId": "3f5b1e37-9a61-4cc6-c0ae-15a750bf0b09"
      },
      "source": [
        "model.evaluate(x_test,y_cat_test)"
      ],
      "execution_count": 28,
      "outputs": [
        {
          "output_type": "stream",
          "text": [
            "313/313 [==============================] - 2s 6ms/step - loss: 0.0548 - accuracy: 0.9852\n"
          ],
          "name": "stdout"
        },
        {
          "output_type": "execute_result",
          "data": {
            "text/plain": [
              "[0.05477727949619293, 0.9851999878883362]"
            ]
          },
          "metadata": {
            "tags": []
          },
          "execution_count": 28
        }
      ]
    },
    {
      "cell_type": "code",
      "metadata": {
        "id": "Kz76W4x9yhw4",
        "colab_type": "code",
        "colab": {}
      },
      "source": [
        "#confusion matrix and classification report\n",
        "from sklearn.metrics import classification_report, confusion_matrix"
      ],
      "execution_count": 0,
      "outputs": []
    },
    {
      "cell_type": "code",
      "metadata": {
        "id": "guVLFCjyysqi",
        "colab_type": "code",
        "colab": {
          "base_uri": "https://localhost:8080/",
          "height": 89
        },
        "outputId": "6db409fb-be23-4f7e-9aaf-f9d114a811f6"
      },
      "source": [
        "#predict for test data\n",
        "predictions = model.predict_classes(x_test)"
      ],
      "execution_count": 30,
      "outputs": [
        {
          "output_type": "stream",
          "text": [
            "WARNING:tensorflow:From <ipython-input-30-7de0541c035a>:1: Sequential.predict_classes (from tensorflow.python.keras.engine.sequential) is deprecated and will be removed after 2021-01-01.\n",
            "Instructions for updating:\n",
            "Please use instead:* `np.argmax(model.predict(x), axis=-1)`,   if your model does multi-class classification   (e.g. if it uses a `softmax` last-layer activation).* `(model.predict(x) > 0.5).astype(\"int32\")`,   if your model does binary classification   (e.g. if it uses a `sigmoid` last-layer activation).\n"
          ],
          "name": "stdout"
        }
      ]
    },
    {
      "cell_type": "code",
      "metadata": {
        "id": "SxxjJUwvy0HW",
        "colab_type": "code",
        "colab": {
          "base_uri": "https://localhost:8080/",
          "height": 312
        },
        "outputId": "39186a54-2b7d-4b7c-9545-49cc2957625d"
      },
      "source": [
        "print(classification_report(y_test,predictions))"
      ],
      "execution_count": 31,
      "outputs": [
        {
          "output_type": "stream",
          "text": [
            "              precision    recall  f1-score   support\n",
            "\n",
            "           0       0.99      1.00      0.99       980\n",
            "           1       1.00      0.99      0.99      1135\n",
            "           2       0.98      0.99      0.99      1032\n",
            "           3       0.99      0.97      0.98      1010\n",
            "           4       0.99      0.99      0.99       982\n",
            "           5       0.94      1.00      0.97       892\n",
            "           6       0.99      0.99      0.99       958\n",
            "           7       0.99      0.98      0.99      1028\n",
            "           8       0.99      0.97      0.98       974\n",
            "           9       0.98      0.98      0.98      1009\n",
            "\n",
            "    accuracy                           0.99     10000\n",
            "   macro avg       0.98      0.99      0.98     10000\n",
            "weighted avg       0.99      0.99      0.99     10000\n",
            "\n"
          ],
          "name": "stdout"
        }
      ]
    },
    {
      "cell_type": "code",
      "metadata": {
        "id": "S7P3jxUVzBlK",
        "colab_type": "code",
        "colab": {
          "base_uri": "https://localhost:8080/",
          "height": 191
        },
        "outputId": "41817f06-f2cb-491d-e392-86ff66236077"
      },
      "source": [
        "print(confusion_matrix(y_test,predictions))"
      ],
      "execution_count": 32,
      "outputs": [
        {
          "output_type": "stream",
          "text": [
            "[[ 976    0    1    0    0    1    1    1    0    0]\n",
            " [   2 1126    2    0    0    1    2    0    2    0]\n",
            " [   2    1 1025    0    0    0    1    2    1    0]\n",
            " [   0    0    7  977    0   25    0    0    1    0]\n",
            " [   0    0    2    0  969    0    1    0    0   10]\n",
            " [   0    0    1    2    0  888    1    0    0    0]\n",
            " [   3    2    0    1    1    5  946    0    0    0]\n",
            " [   0    1    6    1    0    0    0 1012    3    5]\n",
            " [   3    0    4    1    0    9    1    2  949    5]\n",
            " [   2    0    0    1    6   12    0    3    1  984]]\n"
          ],
          "name": "stdout"
        }
      ]
    },
    {
      "cell_type": "code",
      "metadata": {
        "id": "RAQnOW_UzMc4",
        "colab_type": "code",
        "colab": {
          "base_uri": "https://localhost:8080/",
          "height": 501
        },
        "outputId": "f4b05a24-059b-4599-fc78-9d3ff4b002d7"
      },
      "source": [
        "plt.figure(figsize=(12,8))\n",
        "sns.heatmap(confusion_matrix(y_test,predictions),annot=True)"
      ],
      "execution_count": 33,
      "outputs": [
        {
          "output_type": "execute_result",
          "data": {
            "text/plain": [
              "<matplotlib.axes._subplots.AxesSubplot at 0x7f3aa64e2e48>"
            ]
          },
          "metadata": {
            "tags": []
          },
          "execution_count": 33
        },
        {
          "output_type": "display_data",
          "data": {
            "image/png": "[encoded data removed]",
            "text/plain": [
              "<Figure size 864x576 with 2 Axes>"
            ]
          },
          "metadata": {
            "tags": []
          }
        }
      ]
    },
    {
      "cell_type": "markdown",
      "metadata": {
        "id": "nvfpY5KFVnhw",
        "colab_type": "text"
      },
      "source": [
        "Predict for a single image"
      ]
    },
    {
      "cell_type": "code",
      "metadata": {
        "id": "IC8-dQ6yzTKE",
        "colab_type": "code",
        "colab": {
          "base_uri": "https://localhost:8080/",
          "height": 283
        },
        "outputId": "c3cd2ffe-5d90-4f0f-9bda-ec513e7331a8"
      },
      "source": [
        "my_number = x_test[0]\n",
        "plt.imshow(my_number.reshape(28,28))"
      ],
      "execution_count": 34,
      "outputs": [
        {
          "output_type": "execute_result",
          "data": {
            "text/plain": [
              "<matplotlib.image.AxesImage at 0x7f3aa2bf32b0>"
            ]
          },
          "metadata": {
            "tags": []
          },
          "execution_count": 34
        },
        {
          "output_type": "display_data",
          "data": {
            "image/png": "[encoded data removed]",
            "text/plain": [
              "<Figure size 432x288 with 1 Axes>"
            ]
          },
          "metadata": {
            "tags": []
          }
        }
      ]
    },
    {
      "cell_type": "code",
      "metadata": {
        "id": "k6Ky-Z5BzhXe",
        "colab_type": "code",
        "colab": {
          "base_uri": "https://localhost:8080/",
          "height": 35
        },
        "outputId": "ad0d152e-2a0c-49ea-e24c-f212d328b83f"
      },
      "source": [
        "model.predict_classes(my_number.reshape(1,28,28,1))"
      ],
      "execution_count": 35,
      "outputs": [
        {
          "output_type": "execute_result",
          "data": {
            "text/plain": [
              "array([7])"
            ]
          },
          "metadata": {
            "tags": []
          },
          "execution_count": 35
        }
      ]
    }
  ]
}